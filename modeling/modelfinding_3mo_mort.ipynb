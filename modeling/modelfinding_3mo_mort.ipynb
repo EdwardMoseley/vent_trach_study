{
 "cells": [
  {
   "cell_type": "markdown",
   "metadata": {
    "colab": {},
    "colab_type": "code",
    "id": "SLvaMEmpHLZ_"
   },
   "source": [
    "## 3Mo NAS Model Finding"
   ]
  },
  {
   "cell_type": "code",
   "execution_count": null,
   "metadata": {},
   "outputs": [],
   "source": [
    "#!pip install bson\n",
    "#!pip install hyperopt\n",
    "#!pip install hyperas\n",
    "#!pip install pymongo"
   ]
  },
  {
   "cell_type": "code",
   "execution_count": null,
   "metadata": {
    "colab": {
     "base_uri": "https://localhost:8080/",
     "height": 1000
    },
    "colab_type": "code",
    "id": "6W0kHrjw7Vmd",
    "outputId": "d537271b-f8fd-48c1-bd1e-306010e6eb45"
   },
   "outputs": [],
   "source": [
    "import os\n",
    "import pandas as pd\n",
    "import numpy as np\n",
    "import tensorflow as tf\n",
    "import keras as keras\n",
    "\n",
    "import h5py\n",
    "\n",
    "from hyperas import optim\n",
    "from hyperas.distributions import choice, uniform\n",
    "from hyperopt import Trials, STATUS_OK, tpe\n",
    "from keras.models import Sequential\n",
    "from keras.utils import np_utils\n",
    "from keras import initializers\n",
    "from keras.layers import Dense, Dropout, Activation, Conv1D, GlobalMaxPooling1D\n",
    "from keras.layers.normalization import BatchNormalization\n",
    "from keras import regularizers\n",
    "from keras.callbacks import EarlyStopping, ModelCheckpoint\n",
    "from keras.models import load_model"
   ]
  },
  {
   "cell_type": "code",
   "execution_count": null,
   "metadata": {
    "colab": {
     "base_uri": "https://localhost:8080/",
     "height": 1000
    },
    "colab_type": "code",
    "id": "6W0kHrjw7Vmd",
    "outputId": "d537271b-f8fd-48c1-bd1e-306010e6eb45"
   },
   "outputs": [],
   "source": [
    "def data():\n",
    "    X_train = np.load(\"./data/X_train_s.npy\")\n",
    "    X_test = np.load(\"./data/X_test_s.npy\")\n",
    "    Y_train = np.load(\"./data/y_3mo_train_s.npy\")\n",
    "    Y_test = np.load(\"./data/y_3mo_test_s.npy\")\n",
    "\n",
    "    return X_train, Y_train, X_test, Y_test\n",
    "\n",
    "def model(X_train, Y_train, X_test, Y_test):\n",
    "    model = Sequential()\n",
    "\n",
    "    batch_normal_input = \"false\"\n",
    "    batch_normal_hidden1 = \"false\"\n",
    "    batch_normal_hidden2 = \"false\"\n",
    "    batch_normal_hidden3 = \"false\"\n",
    "    batch_normal_hidden4 = \"false\"\n",
    "  \n",
    "    \n",
    "    hidden_layer1_neurons = {{choice([128, 256, 512])}}\n",
    "    hidden_layer2_neurons = 0\n",
    "    hidden_layer3_neurons = 0\n",
    "    hidden_layer4_neurons = {{choice([4, 8, 12, 16, 32])}}\n",
    "\n",
    "    l2_1 = {{choice([0.01, 0])}}\n",
    "    l1_1 = {{choice([0])}}\n",
    "\n",
    "    l2_2 = \"false\"\n",
    "    l1_2 = \"false\"\n",
    "\n",
    "    l2_3 = \"false\"\n",
    "    l1_3 = \"false\"\n",
    "\n",
    "    l2_4 = {{choice([0.01])}}\n",
    "    l1_4 = {{choice([0])}}\n",
    "\n",
    "    dropout_0 = {{uniform(0.3, 0.7)}}\n",
    "    dropout_1 = {{uniform(0.3, 0.7)}}\n",
    "    dropout_2 = \"false\"\n",
    "    dropout_3 = \"false\"\n",
    "    dropout_4 = {{uniform(0, 0.5)}}\n",
    "\n",
    "    epochs = {{choice([4, 8, 16, 24, 32, 40])}}\n",
    "    batch_size = {{choice([4, 8, 12, 16, 32, 64])}}\n",
    "    \n",
    "    callbacks = [EarlyStopping(monitor='val_loss', patience=200, min_delta=0, verbose=0, mode='auto')]\n",
    "\n",
    "    model.add(Dense(256, input_shape=(250,)))\n",
    "    model.add(Activation('elu'))\n",
    "    model.add(Dropout(dropout_0))\n",
    "\n",
    "    model.add(Dense(hidden_layer1_neurons, kernel_regularizer=regularizers.l2(l2_1), activity_regularizer=regularizers.l1(l1_1)))\n",
    "    model.add(Activation('elu'))\n",
    "    model.add(Dropout(dropout_1))\n",
    "\n",
    "    if hidden_layer1_neurons == 512 or hidden_layer1_neurons == 256 or hidden_layer1_neurons == 128:\n",
    "        if {{choice(['three', 'four'])}} == 'four':\n",
    "            l2_2 = {{choice([0.01, 0])}}\n",
    "            l1_2 = {{choice([0])}}\n",
    "            hidden_layer2_neurons = {{choice([32, 64, 128, 265])}}\n",
    "            dropout_2 = {{uniform(0, 0.5)}}\n",
    "            \n",
    "            model.add(Dense(hidden_layer2_neurons, kernel_regularizer=regularizers.l2(l2_2), activity_regularizer=regularizers.l1(l1_2)))\n",
    "            model.add(Activation('elu'))\n",
    "            model.add(Dropout(dropout_2))\n",
    "\n",
    "    model.add(Dense(hidden_layer4_neurons, kernel_regularizer=regularizers.l2(l2_4), activity_regularizer=regularizers.l1(l1_4)))\n",
    "    model.add(Activation('elu'))\n",
    "    model.add(Dropout(dropout_4))\n",
    "\n",
    "    model.add(Dense(1))\n",
    "    model.add(BatchNormalization())\n",
    "    model.add(Activation('sigmoid'))\n",
    "\n",
    "    adam = keras.optimizers.Adam(lr={{choice([10**-3, 10**-2, 10**-1])}})\n",
    "    rmsprop = keras.optimizers.RMSprop(lr={{choice([10**-3, 10**-2, 10**-1])}})\n",
    "   \n",
    "    choiceval = {{choice(['adam', 'rmsprop'])}}\n",
    "    if choiceval == 'adam':\n",
    "        optim = adam\n",
    "        optimizer = \"adam\"\n",
    "    else:\n",
    "        optim = rmsprop\n",
    "        optimizer = \"rmsprop\"\n",
    "    \n",
    "    model.compile(loss='binary_crossentropy', metrics=['accuracy'],optimizer=optim)\n",
    "    \n",
    "    model.fit(X_train, Y_train,\n",
    "              batch_size=batch_size,\n",
    "              epochs = epochs,\n",
    "              verbose=0,\n",
    "              callbacks=callbacks,\n",
    "              validation_split=0.2)\n",
    "    \n",
    "    score, acc = model.evaluate(X_test, Y_test, verbose=0)\n",
    "    \n",
    "    if acc >= 0.73:\n",
    "        print('Test accuracy:', acc)\n",
    "    else:\n",
    "        print('another one bites the dust')\n",
    "\n",
    "    return {'loss': -acc, 'status': STATUS_OK, 'model': model}"
   ]
  },
  {
   "cell_type": "code",
   "execution_count": null,
   "metadata": {
    "colab": {
     "base_uri": "https://localhost:8080/",
     "height": 1000
    },
    "colab_type": "code",
    "id": "6W0kHrjw7Vmd",
    "outputId": "d537271b-f8fd-48c1-bd1e-306010e6eb45"
   },
   "outputs": [],
   "source": [
    "if __name__ == '__main__':\n",
    "  from hyperas import optim\n",
    "  from hyperas.distributions import choice, uniform\n",
    "  from hyperopt import Trials, STATUS_OK, tpe\n",
    "  X_train, Y_train, X_test, Y_test = data()\n",
    "  best_run, best_model = optim.minimize(model=model,\n",
    "                                        data=data,\n",
    "                                        algo=tpe.suggest,                                       \n",
    "                                        max_evals=100,\n",
    "                                        trials=Trials(),\n",
    "                                        notebook_name='modelfinding_3mo_mort')\n",
    "\n",
    "\n",
    "print(best_run)\n",
    "print('\\n# Evaluate on test data')\n",
    "results = best_model.evaluate(X_test, Y_test)\n",
    "print('test loss, test acc:', results)\n",
    "\n",
    "best_acc = str(results[1])[0:5]\n",
    "\n",
    "from keras.models import load_model\n",
    "\n",
    "best_model.save('3mo_Acc_'+best_acc+'_30May2020_3mo_best_model.h5')"
   ]
  },
  {
   "cell_type": "code",
   "execution_count": null,
   "metadata": {},
   "outputs": [],
   "source": []
  }
 ],
 "metadata": {
  "colab": {
   "collapsed_sections": [],
   "name": "HST_paper_modelfinding.ipynb",
   "provenance": [],
   "version": "0.3.2"
  },
  "kernelspec": {
   "display_name": "Python 3",
   "language": "python",
   "name": "python3"
  },
  "language_info": {
   "codemirror_mode": {
    "name": "ipython",
    "version": 3
   },
   "file_extension": ".py",
   "mimetype": "text/x-python",
   "name": "python",
   "nbconvert_exporter": "python",
   "pygments_lexer": "ipython3",
   "version": "3.7.4"
  }
 },
 "nbformat": 4,
 "nbformat_minor": 4
}
