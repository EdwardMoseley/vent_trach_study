{
 "cells": [
  {
   "cell_type": "markdown",
   "metadata": {
    "colab_type": "text",
    "id": "uhxFTxjXA7zT"
   },
   "source": [
    "## Load Data/Models\n"
   ]
  },
  {
   "cell_type": "code",
   "execution_count": 19,
   "metadata": {
    "colab": {},
    "colab_type": "code",
    "id": "UM_80iiTM0g-"
   },
   "outputs": [],
   "source": [
    "import h5py\n",
    "\n",
    "## These two are version-sensitive\n",
    "from tensorflow.keras.models import load_model\n",
    "import keras\n",
    "\n",
    "import pandas as pd\n",
    "import numpy as np\n",
    "\n",
    "## Neural Network data\n",
    "X_train = np.load(\"./data/X_train_s.npy\")\n",
    "X_test = np.load(\"./data/X_test_s.npy\")\n",
    "Y_train = np.load(\"./data/y_1yr_train_s.npy\")\n",
    "Y_test = np.load(\"./data/y_1yr_test_s.npy\")\n",
    "\n",
    "## Logistic regression data"
   ]
  },
  {
   "cell_type": "markdown",
   "metadata": {
    "colab_type": "text",
    "id": "ENZ5kj8qA_9O"
   },
   "source": [
    "## Load & Evaluate Keras Model\n"
   ]
  },
  {
   "cell_type": "code",
   "execution_count": null,
   "metadata": {
    "colab": {
     "base_uri": "https://localhost:8080/",
     "height": 190
    },
    "colab_type": "code",
    "id": "IoM_A5UDMUXA",
    "outputId": "b6ca2415-d988-49f5-bacd-3fdc123d6dde"
   },
   "outputs": [],
   "source": [
    "model_file = \"Acc_0.741_25May2020_1yr_best_model.h5\"\n",
    "\n",
    "f = h5py.File(model_file, 'r')\n",
    "\n",
    "print(\"Model version: \", f.attrs.get('keras_version'))\n",
    "print(\"Keras version: \", keras.__version__)#tf.keras.__version__)\n",
    "print(\"\")\n",
    "\n",
    "## 12M\n",
    "model = keras.models.load_model(model_file)"
   ]
  },
  {
   "cell_type": "code",
   "execution_count": 21,
   "metadata": {
    "colab": {},
    "colab_type": "code",
    "id": "w1ndC3TvVNu5"
   },
   "outputs": [
    {
     "name": "stdout",
     "output_type": "stream",
     "text": [
      "Model: \"sequential_1\"\n",
      "_________________________________________________________________\n",
      "Layer (type)                 Output Shape              Param #   \n",
      "=================================================================\n",
      "dense_1 (Dense)              (None, 256)               64256     \n",
      "_________________________________________________________________\n",
      "activation_1 (Activation)    (None, 256)               0         \n",
      "_________________________________________________________________\n",
      "dropout_1 (Dropout)          (None, 256)               0         \n",
      "_________________________________________________________________\n",
      "dense_2 (Dense)              (None, 256)               65792     \n",
      "_________________________________________________________________\n",
      "activation_2 (Activation)    (None, 256)               0         \n",
      "_________________________________________________________________\n",
      "dropout_2 (Dropout)          (None, 256)               0         \n",
      "_________________________________________________________________\n",
      "dense_3 (Dense)              (None, 16)                4112      \n",
      "_________________________________________________________________\n",
      "activation_3 (Activation)    (None, 16)                0         \n",
      "_________________________________________________________________\n",
      "dropout_3 (Dropout)          (None, 16)                0         \n",
      "_________________________________________________________________\n",
      "dense_4 (Dense)              (None, 1)                 17        \n",
      "_________________________________________________________________\n",
      "batch_normalization_1 (Batch (None, 1)                 4         \n",
      "_________________________________________________________________\n",
      "activation_4 (Activation)    (None, 1)                 0         \n",
      "=================================================================\n",
      "Total params: 134,181\n",
      "Trainable params: 134,179\n",
      "Non-trainable params: 2\n",
      "_________________________________________________________________\n"
     ]
    }
   ],
   "source": [
    "model.summary()"
   ]
  },
  {
   "cell_type": "code",
   "execution_count": null,
   "metadata": {
    "colab": {},
    "colab_type": "code",
    "id": "ComYASJ-8VwS"
   },
   "outputs": [],
   "source": [
    "#prediction = pd.DataFrame(Y_train, columns=['Y_train']).to_csv('prediction1.csv')\n",
    "#Y_predicted_train = model.predict(X_train)\n",
    "#prediction = pd.DataFrame(Y_predicted_train, columns=['pred_Y_train']).to_csv('prediction2.csv')\n",
    "#prediction = pd.DataFrame(Y_test, columns=['Y_test']).to_csv('prediction3.csv')\n",
    "#Y_predicted_test = model.predict(X_test)\n",
    "#prediction = pd.DataFrame(Y_predicted_test, columns=['pred_Y_test']).to_csv('prediction4.csv')"
   ]
  },
  {
   "cell_type": "code",
   "execution_count": null,
   "metadata": {
    "colab": {
     "base_uri": "https://localhost:8080/",
     "height": 616
    },
    "colab_type": "code",
    "id": "EcDTZpMLMsnt",
    "outputId": "5de2b1a4-92ef-4ad3-f933-7c1c864ee069"
   },
   "outputs": [],
   "source": [
    "# Score and Accuracy\n",
    "print(model.evaluate(X_train, Y_train))"
   ]
  },
  {
   "cell_type": "code",
   "execution_count": 22,
   "metadata": {
    "colab": {
     "base_uri": "https://localhost:8080/",
     "height": 34
    },
    "colab_type": "code",
    "id": "iYn8EmI1MhBm",
    "outputId": "ed4f3c60-d1de-4462-87bd-3335368ed8c1"
   },
   "outputs": [
    {
     "data": {
      "text/plain": [
       "0.7977934132373917"
      ]
     },
     "execution_count": 22,
     "metadata": {},
     "output_type": "execute_result"
    }
   ],
   "source": [
    "#ROC\n",
    "y_pred = model.predict(X_test)\n",
    "from sklearn.metrics import roc_auc_score\n",
    "roc_auc_score(Y_test, y_pred)"
   ]
  },
  {
   "cell_type": "code",
   "execution_count": 29,
   "metadata": {
    "colab": {
     "base_uri": "https://localhost:8080/",
     "height": 301
    },
    "colab_type": "code",
    "id": "riYKb8QIv-fw",
    "outputId": "c818aedc-7007-4224-e5a1-77abaea43139"
   },
   "outputs": [
    {
     "data": {
      "image/png": "[encoded data removed]",
      "text/plain": [
       "<Figure size 432x288 with 1 Axes>"
      ]
     },
     "metadata": {
      "needs_background": "light"
     },
     "output_type": "display_data"
    }
   ],
   "source": [
    "from sklearn.metrics import roc_auc_score\n",
    "from sklearn.metrics import roc_curve\n",
    "import matplotlib.pyplot as plt\n",
    "\n",
    "logit_roc_auc = roc_auc_score(Y_test, y_pred)\n",
    "fpr, tpr, thresholds = roc_curve(Y_test, y_pred)\n",
    "\n",
    "\n",
    "plt.figure()\n",
    "plt.plot(fpr, tpr, label='Neural Net (area = %0.2f)' % logit_roc_auc, color='cornflowerblue')\n",
    "plt.plot([0, 1], [0, 1], linestyle='--', color='grey')\n",
    "plt.xlim([-0.01, 1.01])\n",
    "plt.ylim([-0.02, 1.02])\n",
    "plt.xlabel('False Positive Rate')\n",
    "plt.ylabel('True Positive Rate')\n",
    "plt.title('ROC: Predicting 1 yr Mortality @ Day 7 of Ventilation')\n",
    "plt.legend(loc=\"lower right\")\n",
    "## plt.savefig(fname='provent_day7_ROC', dpi=400, transparent=True)\n",
    "plt.show()"
   ]
  },
  {
   "cell_type": "code",
   "execution_count": null,
   "metadata": {
    "colab": {},
    "colab_type": "code",
    "id": "aKUhK3sbgeDs"
   },
   "outputs": [],
   "source": [
    "## np.save(\"fpr.npy\", fpr)\n",
    "## np.save(\"tpr.npy\", tpr)\n",
    "## np.save(\"thresholds.npy\", thresholds)"
   ]
  },
  {
   "cell_type": "code",
   "execution_count": 24,
   "metadata": {
    "colab": {
     "base_uri": "https://localhost:8080/",
     "height": 51
    },
    "colab_type": "code",
    "id": "IlJkyYryMpCj",
    "outputId": "218fda41-23b2-4633-b5c2-5a85aba36d74"
   },
   "outputs": [
    {
     "data": {
      "text/plain": [
       "array([[427,  12],\n",
       "       [294, 134]])"
      ]
     },
     "execution_count": 24,
     "metadata": {},
     "output_type": "execute_result"
    }
   ],
   "source": [
    "# Confusion Matrix\n",
    "from sklearn.metrics import confusion_matrix\n",
    "confusion_matrix(Y_test, (y_pred>0.5).astype(int))"
   ]
  },
  {
   "cell_type": "code",
   "execution_count": null,
   "metadata": {
    "colab": {
     "base_uri": "https://localhost:8080/",
     "height": 170
    },
    "colab_type": "code",
    "id": "V1cAchS_inCp",
    "outputId": "bd8caf25-ab84-47c3-b034-1f94e14a63a8"
   },
   "outputs": [],
   "source": [
    "# Precision recall fscore support\n",
    "from sklearn.metrics import precision_recall_fscore_support\n",
    "## print(precision_recall_fscore_support(Y_test, y_pred.round()))\n",
    "\n",
    "\n",
    "from sklearn.metrics import classification_report\n",
    "print(classification_report(Y_test, y_pred.round()))"
   ]
  },
  {
   "cell_type": "code",
   "execution_count": null,
   "metadata": {
    "colab": {},
    "colab_type": "code",
    "id": "eo2V2b9ZOMzb"
   },
   "outputs": [],
   "source": [
    "import sklearn.metrics as metrics\n",
    "# calculate the fpr and tpr for all thresholds of the classification\n",
    "fpr, tpr, threshold = metrics.roc_curve(Y_test, y_pred)\n",
    "roc_auc = metrics.auc(fpr, tpr)\n",
    "\n",
    "plt.title('Receiver Operating Characteristic')\n",
    "plt.plot(fpr, tpr, 'b', label = 'AUC = %0.2f' % roc_auc)\n",
    "plt.legend(loc = 'lower right')\n",
    "plt.plot([0, 1], [0, 1],'r--')\n",
    "plt.xlim([0, 1])\n",
    "plt.ylim([0, 1])\n",
    "plt.ylabel('True Positive Rate')\n",
    "plt.xlabel('False Positive Rate')\n",
    "plt.show()"
   ]
  },
  {
   "cell_type": "code",
   "execution_count": null,
   "metadata": {
    "colab": {},
    "colab_type": "code",
    "id": "6sr-TegAB_pD"
   },
   "outputs": [],
   "source": [
    "## np.save(\"fpr.npy\", fpr)\n",
    "## np.save(\"tpr.npy\", tpr)\n",
    "## np.save(\"thresholds.npy\", thresholds)"
   ]
  },
  {
   "cell_type": "code",
   "execution_count": null,
   "metadata": {
    "colab": {},
    "colab_type": "code",
    "id": "kxR4mXartino"
   },
   "outputs": [],
   "source": [
    "!pip install -q pydot\n",
    "import pydot\n",
    "from keras.utils import plot_model\n",
    "\n",
    "## plot_model(model, to_file='model.png')"
   ]
  },
  {
   "cell_type": "markdown",
   "metadata": {
    "colab_type": "text",
    "id": "fCJPFOy1BOUx"
   },
   "source": [
    "## SHAP Values"
   ]
  },
  {
   "cell_type": "code",
   "execution_count": 26,
   "metadata": {
    "colab": {},
    "colab_type": "code",
    "id": "KkUevCI3xjMT"
   },
   "outputs": [],
   "source": [
    "# at Day 7\n",
    "X_colnames = ['ADMISSION_AGE',\n",
    " 'VD1_HEARTRATE_MIN',\n",
    " 'VD1_HEARTRATE_MAX',\n",
    " 'VD1_HEARTRATE_MEAN',\n",
    " 'VD1_SYSBP_MIN',\n",
    " 'VD1_SYSBP_MAX',\n",
    " 'VD1_SYSBP_MEAN',\n",
    " 'VD1_DIASBP_MIN',\n",
    " 'VD1_DIASBP_MAX',\n",
    " 'VD1_DIASBP_MEAN',\n",
    " 'VD1_MEANBP_MIN',\n",
    " 'VD1_MEANBP_MAX',\n",
    " 'VD1_MEANBP_MEAN',\n",
    " 'VD1_RESPRATE_MIN',\n",
    " 'VD1_RESPRATE_MAX',\n",
    " 'VD1_RESPRATE_MEAN',\n",
    " 'VD1_TEMPC_MIN',\n",
    " 'VD1_TEMPC_MAX',\n",
    " 'VD1_TEMPC_MEAN',\n",
    " 'VD1_SPO2_MIN',\n",
    " 'VD1_SPO2_MAX',\n",
    " 'VD1_SPO2_MEAN',\n",
    " 'VD1_GLUCOSE_MIN',\n",
    " 'VD1_GLUCOSE_MAX',\n",
    " 'VD1_GLUCOSE_MEAN',\n",
    " 'VMVD1_HEARTRATE_MIN',\n",
    " 'VMVD1_HEARTRATE_MAX',\n",
    " 'VMVD1_HEARTRATE_MEAN',\n",
    " 'VMVD1_SYSBP_MIN',\n",
    " 'VMVD1_SYSBP_MAX',\n",
    " 'VMVD1_SYSBP_MEAN',\n",
    " 'VMVD1_DIASBP_MIN',\n",
    " 'VMVD1_DIASBP_MAX',\n",
    " 'VMVD1_DIASBP_MEAN',\n",
    " 'VMVD1_MEANBP_MIN',\n",
    " 'VMVD1_MEANBP_MAX',\n",
    " 'VMVD1_MEANBP_MEAN',\n",
    " 'VMVD1_RESPRATE_MIN',\n",
    " 'VMVD1_RESPRATE_MAX',\n",
    " 'VMVD1_RESPRATE_MEAN',\n",
    " 'VMVD1_TEMPC_MIN',\n",
    " 'VMVD1_TEMPC_MAX',\n",
    " 'VMVD1_TEMPC_MEAN',\n",
    " 'VMVD1_SPO2_MIN',\n",
    " 'VMVD1_SPO2_MAX',\n",
    " 'VMVD1_SPO2_MEAN',\n",
    " 'VMVD1_GLUCOSE_MIN',\n",
    " 'VMVD1_GLUCOSE_MAX',\n",
    " 'VMVD1_GLUCOSE_MEAN',\n",
    " 'VMVD7_HEARTRATE_MIN',\n",
    " 'VMVD7_HEARTRATE_MAX',\n",
    " 'VMVD7_HEARTRATE_MEAN',\n",
    " 'VMVD7_SYSBP_MIN',\n",
    " 'VMVD7_SYSBP_MAX',\n",
    " 'VMVD7_SYSBP_MEAN',\n",
    " 'VMVD7_DIASBP_MIN',\n",
    " 'VMVD7_DIASBP_MAX',\n",
    " 'VMVD7_DIASBP_MEAN',\n",
    " 'VMVD7_MEANBP_MIN',\n",
    " 'VMVD7_MEANBP_MAX',\n",
    " 'VMVD7_MEANBP_MEAN',\n",
    " 'VMVD7_RESPRATE_MIN',\n",
    " 'VMVD7_RESPRATE_MAX',\n",
    " 'VMVD7_RESPRATE_MEAN',\n",
    " 'VMVD7_TEMPC_MIN',\n",
    " 'VMVD7_TEMPC_MAX',\n",
    " 'VMVD7_TEMPC_MEAN',\n",
    " 'VMVD7_SPO2_MIN',\n",
    " 'VMVD7_SPO2_MAX',\n",
    " 'VMVD7_SPO2_MEAN',\n",
    " 'VMVD7_GLUCOSE_MIN',\n",
    " 'VMVD7_GLUCOSE_MAX',\n",
    " 'VMVD7_GLUCOSE_MEAN',\n",
    " 'LD1_ANIONGAP_MIN',\n",
    " 'LD1_ANIONGAP_MAX',\n",
    " 'LD1_ALBUMIN_MIN',\n",
    " 'LD1_ALBUMIN_MAX',\n",
    " 'LD1_BANDS_MIN',\n",
    " 'LD1_BANDS_MAX',\n",
    " 'LD1_BICARBONATE_MIN',\n",
    " 'LD1_BICARBONATE_MAX',\n",
    " 'LD1_BILIRUBIN_MIN',\n",
    " 'LD1_BILIRUBIN_MAX',\n",
    " 'LD1_CREATININE_MIN',\n",
    " 'LD1_CREATININE_MAX',\n",
    " 'LD1_CHLORIDE_MIN',\n",
    " 'LD1_CHLORIDE_MAX',\n",
    " 'LD1_GLUCOSE_MIN',\n",
    " 'LD1_GLUCOSE_MAX',\n",
    " 'LD1_HEMATOCRIT_MIN',\n",
    " 'LD1_HEMATOCRIT_MAX',\n",
    " 'LD1_HEMOGLOBIN_MIN',\n",
    " 'LD1_HEMOGLOBIN_MAX',\n",
    " 'LD1_LACTATE_MIN',\n",
    " 'LD1_LACTATE_MAX',\n",
    " 'LD1_PLATELET_MIN',\n",
    " 'LD1_PLATELET_MAX',\n",
    " 'LD1_POTASSIUM_MIN',\n",
    " 'LD1_POTASSIUM_MAX',\n",
    " 'LD1_PTT_MIN',\n",
    " 'LD1_PTT_MAX',\n",
    " 'LD1_INR_MIN',\n",
    " 'LD1_INR_MAX',\n",
    " 'LD1_PT_MIN',\n",
    " 'LD1_PT_MAX',\n",
    " 'LD1_SODIUM_MIN',\n",
    " 'LD1_SODIUM_MAX',\n",
    " 'LD1_BUN_MIN',\n",
    " 'LD1_BUN_MAX',\n",
    " 'LD1_WBC_MIN',\n",
    " 'LD1_WBC_MAX',\n",
    " 'LMVD1_ANIONGAP_MIN',\n",
    " 'LMVD1_ANIONGAP_MAX',\n",
    " 'LMVD1_ALBUMIN_MIN',\n",
    " 'LMVD1_ALBUMIN_MAX',\n",
    " 'LMVD1_BANDS_MIN',\n",
    " 'LMVD1_BANDS_MAX',\n",
    " 'LMVD1_BICARBONATE_MIN',\n",
    " 'LMVD1_BICARBONATE_MAX',\n",
    " 'LMVD1_BILIRUBIN_MIN',\n",
    " 'LMVD1_BILIRUBIN_MAX',\n",
    " 'LMVD1_CREATININE_MIN',\n",
    " 'LMVD1_CREATININE_MAX',\n",
    " 'LMVD1_CHLORIDE_MIN',\n",
    " 'LMVD1_CHLORIDE_MAX',\n",
    " 'LMVD1_GLUCOSE_MIN',\n",
    " 'LMVD1_GLUCOSE_MAX',\n",
    " 'LMVD1_HEMATOCRIT_MIN',\n",
    " 'LMVD1_HEMATOCRIT_MAX',\n",
    " 'LMVD1_HEMOGLOBIN_MIN',\n",
    " 'LMVD1_HEMOGLOBIN_MAX',\n",
    " 'LMVD1_LACTATE_MIN',\n",
    " 'LMVD1_LACTATE_MAX',\n",
    " 'LMVD1_PLATELET_MIN',\n",
    " 'LMVD1_PLATELET_MAX',\n",
    " 'LMVD1_POTASSIUM_MIN',\n",
    " 'LMVD1_POTASSIUM_MAX',\n",
    " 'LMVD1_PTT_MIN',\n",
    " 'LMVD1_PTT_MAX',\n",
    " 'LMVD1_INR_MIN',\n",
    " 'LMVD1_INR_MAX',\n",
    " 'LMVD1_PT_MIN',\n",
    " 'LMVD1_PT_MAX',\n",
    " 'LMVD1_SODIUM_MIN',\n",
    " 'LMVD1_SODIUM_MAX',\n",
    " 'LMVD1_BUN_MIN',\n",
    " 'LMVD1_BUN_MAX',\n",
    " 'LMVD1_WBC_MIN',\n",
    " 'LMVD1_WBC_MAX',\n",
    " 'LMVD7_ANIONGAP_MIN',\n",
    " 'LMVD7_ANIONGAP_MAX',\n",
    " 'LMVD7_ALBUMIN_MIN',\n",
    " 'LMVD7_ALBUMIN_MAX',\n",
    " 'LMVD7_BANDS_MIN',\n",
    " 'LMVD7_BANDS_MAX',\n",
    " 'LMVD7_BICARBONATE_MIN',\n",
    " 'LMVD7_BICARBONATE_MAX',\n",
    " 'LMVD7_BILIRUBIN_MIN',\n",
    " 'LMVD7_BILIRUBIN_MAX',\n",
    " 'LMVD7_CREATININE_MIN',\n",
    " 'LMVD7_CREATININE_MAX',\n",
    " 'LMVD7_CHLORIDE_MIN',\n",
    " 'LMVD7_CHLORIDE_MAX',\n",
    " 'LMVD7_GLUCOSE_MIN',\n",
    " 'LMVD7_GLUCOSE_MAX',\n",
    " 'LMVD7_HEMATOCRIT_MIN',\n",
    " 'LMVD7_HEMATOCRIT_MAX',\n",
    " 'LMVD7_HEMOGLOBIN_MIN',\n",
    " 'LMVD7_HEMOGLOBIN_MAX',\n",
    " 'LMVD7_LACTATE_MIN',\n",
    " 'LMVD7_LACTATE_MAX',\n",
    " 'LMVD7_PLATELET_MIN',\n",
    " 'LMVD7_PLATELET_MAX',\n",
    " 'LMVD7_POTASSIUM_MIN',\n",
    " 'LMVD7_POTASSIUM_MAX',\n",
    " 'LMVD7_PTT_MIN',\n",
    " 'LMVD7_PTT_MAX',\n",
    " 'LMVD7_INR_MIN',\n",
    " 'LMVD7_INR_MAX',\n",
    " 'LMVD7_PT_MIN',\n",
    " 'LMVD7_PT_MAX',\n",
    " 'LMVD7_SODIUM_MIN',\n",
    " 'LMVD7_SODIUM_MAX',\n",
    " 'LMVD7_BUN_MIN',\n",
    " 'LMVD7_BUN_MAX',\n",
    " 'LMVD7_WBC_MIN',\n",
    " 'LMVD7_WBC_MAX',\n",
    " 'HEIGHT_AVG',\n",
    " 'WEIGHTD1_WEIGHT_AVG',\n",
    " 'WEIGHTMVD1_WEIGHT_AVG',\n",
    " 'WEIGHTMVD7_WEIGHT_AVG',\n",
    " 'HOSP_ADMIT_CONGESTIVE_HEART_FAILURE',\n",
    " 'HOSP_ADMIT_CARDIAC_ARRHYTHMIAS',\n",
    " 'HOSP_ADMIT_VALVULAR_DISEASE',\n",
    " 'HOSP_ADMIT_PULMONARY_CIRCULATION',\n",
    " 'HOSP_ADMIT_PERIPHERAL_VASCULAR',\n",
    " 'HOSP_ADMIT_HYPERTENSION',\n",
    " 'HOSP_ADMIT_PARALYSIS',\n",
    " 'HOSP_ADMIT_OTHER_NEUROLOGICAL',\n",
    " 'HOSP_ADMIT_CHRONIC_PULMONARY',\n",
    " 'HOSP_ADMIT_DIABETES_UNCOMPLICATED',\n",
    " 'HOSP_ADMIT_DIABETES_COMPLICATED',\n",
    " 'HOSP_ADMIT_HYPOTHYROIDISM',\n",
    " 'HOSP_ADMIT_RENAL_FAILURE',\n",
    " 'HOSP_ADMIT_LIVER_DISEASE',\n",
    " 'HOSP_ADMIT_PEPTIC_ULCER',\n",
    " 'HOSP_ADMIT_AIDS',\n",
    " 'HOSP_ADMIT_LYMPHOMA',\n",
    " 'HOSP_ADMIT_METASTATIC_CANCER',\n",
    " 'HOSP_ADMIT_SOLID_TUMOR',\n",
    " 'HOSP_ADMIT_RHEUMATOID_ARTHRITIS',\n",
    " 'HOSP_ADMIT_COAGULOPATHY',\n",
    " 'HOSP_ADMIT_OBESITY',\n",
    " 'HOSP_ADMIT_WEIGHT_LOSS',\n",
    " 'HOSP_ADMIT_FLUID_ELECTROLYTE',\n",
    " 'HOSP_ADMIT_BLOOD_LOSS_ANEMIA',\n",
    " 'HOSP_ADMIT_DEFICIENCY_ANEMIAS',\n",
    " 'HOSP_ADMIT_ALCOHOL_ABUSE',\n",
    " 'HOSP_ADMIT_DRUG_ABUSE',\n",
    " 'HOSP_ADMIT_PSYCHOSES',\n",
    " 'HOSP_ADMIT_DEPRESSION',\n",
    " 'ICU_D1_APSIII',\n",
    " 'ICU_D1_OASIS',\n",
    " 'ICU_D1_SOFA',\n",
    " 'ICU_D1_LODS',\n",
    " 'ICU_D1_SAPSII',\n",
    " 'BMID1',\n",
    " 'BMIMVD1',\n",
    " 'BMIMVD7',\n",
    " 'VPD1_VP',\n",
    " 'VPMVD1_VP',\n",
    " 'VPMVD7_VP',\n",
    " 'RRTD1_RRT',\n",
    " 'RRTMVD1_RRT',\n",
    " 'RRTMVD7_RRT',\n",
    " 'ADMISSION_TYPE_ELECTIVE',\n",
    " 'ADMISSION_TYPE_EMERGENCY',\n",
    " 'ADMISSION_TYPE_URGENT',\n",
    " 'ADMISSION_LOCATION_CLINIC REFERRAL/PREMATURE',\n",
    " 'ADMISSION_LOCATION_EMERGENCY ROOM ADMIT',\n",
    " 'ADMISSION_LOCATION_PHYS REFERRAL/NORMAL DELI',\n",
    " 'ADMISSION_LOCATION_TRANSFER FROM HOSP/EXTRAM',\n",
    " 'ADMISSION_LOCATION_TRANSFER FROM SKILLED NUR',\n",
    " 'FIRST_CAREUNIT_CCU',\n",
    " 'FIRST_CAREUNIT_CSRU',\n",
    " 'FIRST_CAREUNIT_MICU',\n",
    " 'FIRST_CAREUNIT_SICU',\n",
    " 'FIRST_CAREUNIT_TSICU',\n",
    " 'GENDER_F',\n",
    " 'GENDER_M']"
   ]
  },
  {
   "cell_type": "code",
   "execution_count": 27,
   "metadata": {
    "colab": {
     "base_uri": "https://localhost:8080/",
     "height": 187
    },
    "colab_type": "code",
    "id": "liiN8RURvayP",
    "outputId": "29a20a49-17d8-4823-d90f-809be69c83d8"
   },
   "outputs": [],
   "source": [
    "import matplotlib.pyplot as plt\n",
    "import shap\n",
    "\n",
    "explainer = shap.DeepExplainer(model, X_train)\n",
    "shap_values = explainer.shap_values(X_train)"
   ]
  },
  {
   "cell_type": "code",
   "execution_count": 28,
   "metadata": {
    "colab": {
     "base_uri": "https://localhost:8080/",
     "height": 585
    },
    "colab_type": "code",
    "id": "-o3C7Ofo0M6T",
    "outputId": "14ab5500-fa2f-4f40-ed26-9df521b418f2"
   },
   "outputs": [
    {
     "data": {
      "image/png": "[encoded data removed]",
      "text/plain": [
       "<Figure size 576x684 with 2 Axes>"
      ]
     },
     "metadata": {
      "needs_background": "light"
     },
     "output_type": "display_data"
    }
   ],
   "source": [
    "# summarize the effects of all the features for one class\n",
    "shap.summary_plot(shap_values[0], X_train, feature_names=X_colnames)"
   ]
  },
  {
   "cell_type": "markdown",
   "metadata": {
    "colab_type": "text",
    "id": "ZEJ7FJW3A0QS"
   },
   "source": [
    "## ProVent Logistic Regresion (not taken for paper)"
   ]
  },
  {
   "cell_type": "code",
   "execution_count": null,
   "metadata": {
    "colab": {},
    "colab_type": "code",
    "id": "zwr1AmkoA5X9"
   },
   "outputs": [],
   "source": [
    "import numpy as np\n",
    "from sklearn.linear_model import LogisticRegression\n",
    "\n",
    "clf = LogisticRegression(random_state=0).fit(X_train, Y_train)"
   ]
  },
  {
   "cell_type": "code",
   "execution_count": null,
   "metadata": {
    "colab": {},
    "colab_type": "code",
    "id": "uBSMuvYwoqam"
   },
   "outputs": [],
   "source": [
    "X_train.shape"
   ]
  },
  {
   "cell_type": "code",
   "execution_count": null,
   "metadata": {
    "colab": {
     "base_uri": "https://localhost:8080/",
     "height": 34
    },
    "colab_type": "code",
    "id": "TUGyGUO2CrC5",
    "outputId": "89e8744b-4c8f-4480-cc71-41fc4da29708"
   },
   "outputs": [],
   "source": [
    "y_pred = clf.predict_proba(X_test)\n",
    "y_pred = y_pred[:, 1]\n",
    "from sklearn.metrics import roc_auc_score\n",
    "roc_auc_score(Y_test, y_pred)"
   ]
  },
  {
   "cell_type": "code",
   "execution_count": null,
   "metadata": {
    "colab": {
     "base_uri": "https://localhost:8080/",
     "height": 170
    },
    "colab_type": "code",
    "id": "-r6XAgYfi8SZ",
    "outputId": "9074eaae-6a0a-439f-f2de-74d2a4bd27b7"
   },
   "outputs": [],
   "source": [
    "from sklearn.metrics import classification_report\n",
    "print(classification_report(Y_test, y_pred.round()))"
   ]
  },
  {
   "cell_type": "code",
   "execution_count": null,
   "metadata": {
    "colab": {
     "base_uri": "https://localhost:8080/",
     "height": 232
    },
    "colab_type": "code",
    "id": "BkRvpmkdDEvL",
    "outputId": "ae199a51-5f17-43b8-ccfa-a9ffd554daaa"
   },
   "outputs": [],
   "source": [
    "from sklearn.metrics import roc_auc_score\n",
    "from sklearn.metrics import roc_curve\n",
    "import matplotlib.pyplot as plt\n",
    "\n",
    "logit_roc_auc = roc_auc_score(Y_test, y_pred)\n",
    "fpr, tpr, thresholds = roc_curve(Y_test, y_pred)\n",
    "plt.figure()\n",
    "plt.plot(fpr, tpr, label='Neural Net (area = %0.2f)' % logit_roc_auc, color='cornflowerblue')\n",
    "plt.plot([0, 1], [0, 1], linestyle='--', color='grey')\n",
    "plt.xlim([-0.01, 1.01])\n",
    "plt.ylim([-0.02, 1.02])\n",
    "plt.xlabel('False Positive Rate')\n",
    "plt.ylabel('True Positive Rate')\n",
    "plt.title('ROC: Predicting 3 Month Mortality @ Day 7 of Ventilation')\n",
    "plt.legend(loc=\"lower right\")\n",
    "plt.savefig(fname='provent_day7_ROC', dpi=400, transparent=True)\n",
    "plt.show()"
   ]
  },
  {
   "cell_type": "markdown",
   "metadata": {
    "colab_type": "text",
    "id": "QOF3DcYzqo7Y"
   },
   "source": [
    "## LR alternative (taken for paper) "
   ]
  },
  {
   "cell_type": "code",
   "execution_count": null,
   "metadata": {
    "colab": {},
    "colab_type": "code",
    "id": "hyTs8yq00D02"
   },
   "outputs": [],
   "source": [
    "#LR\n",
    "import numpy as np\n",
    "\n",
    "X = np.load(\"/content/drive/My Drive/HST.953- Team N/Data/new/prepared_LR/standardized/3M/7D/X_s.npy\")\n",
    "y = np.load(\"/content/drive/My Drive/HST.953- Team N/Data/new/prepared_LR/standardized/3M/7D/y_s.npy\")"
   ]
  },
  {
   "cell_type": "code",
   "execution_count": null,
   "metadata": {
    "colab": {},
    "colab_type": "code",
    "id": "RTfJ13LAqrpD"
   },
   "outputs": [],
   "source": [
    "from sklearn.metrics import accuracy_score\n",
    "from sklearn.metrics import confusion_matrix\n",
    "from sklearn.metrics import classification_report\n",
    "from sklearn.metrics import roc_auc_score\n",
    "from sklearn.metrics import roc_curve\n",
    "from sklearn.model_selection import cross_val_predict\n",
    "from sklearn.linear_model import LogisticRegression\n",
    "\n",
    "import seaborn as sns\n",
    "import matplotlib.pyplot as plt\n",
    "from IPython.display import display, HTML\n",
    "\n",
    "plt.rc(\"font\", size=14)\n",
    "sns.set(style=\"white\")\n",
    "sns.set(style=\"whitegrid\", color_codes=True)"
   ]
  },
  {
   "cell_type": "code",
   "execution_count": null,
   "metadata": {
    "colab": {},
    "colab_type": "code",
    "id": "YHKS4EN4qq_h"
   },
   "outputs": [],
   "source": [
    "logreg = LogisticRegression()\n",
    "logreg.fit(X, y)\n",
    "predicted = cross_val_predict(logreg, X, y, cv=10)\n",
    "predicted_proba = cross_val_predict(logreg, X, y, cv=10, method='predict_proba')"
   ]
  },
  {
   "cell_type": "code",
   "execution_count": null,
   "metadata": {
    "colab": {
     "base_uri": "https://localhost:8080/",
     "height": 34
    },
    "colab_type": "code",
    "id": "SHslrcZ72M5o",
    "outputId": "26a3848d-c912-400d-e564-a37caa279f95"
   },
   "outputs": [],
   "source": [
    "logreg.coef_\n",
    "#np.exp(logreg.coef_)"
   ]
  },
  {
   "cell_type": "code",
   "execution_count": null,
   "metadata": {
    "colab": {
     "base_uri": "https://localhost:8080/",
     "height": 505
    },
    "colab_type": "code",
    "id": "bkJ0fqovtzN9",
    "outputId": "1ba81886-4aa0-42e7-88b9-c36a1276852f"
   },
   "outputs": [],
   "source": [
    "print(confusion_matrix(y, predicted))\n",
    "print(accuracy_score(y, predicted))\n",
    "print(classification_report(y, predicted))\n",
    "\n",
    "logit_roc_auc = roc_auc_score(y, predicted)\n",
    "fpr, tpr, thresholds = roc_curve(y, predicted_proba[:,1])\n",
    "plt.figure()\n",
    "plt.plot(fpr, tpr, label='Logistic Regression (AUC = %0.2f)' % logit_roc_auc, color='cornflowerblue')\n",
    "plt.plot([0, 1], [0, 1], linestyle='--', color='grey')\n",
    "plt.xlim([-0.01, 1.01])\n",
    "plt.ylim([-0.02, 1.02])\n",
    "plt.xlabel('False Positive Rate')\n",
    "plt.ylabel('True Positive Rate')\n",
    "plt.title('ROC: Predicting 3 Month Mortality @ Day 7 of Ventilation')\n",
    "plt.legend(loc=\"lower right\")\n",
    "plt.savefig(fname='provent_day7_ROC', dpi=400, transparent=True)\n",
    "plt.show()"
   ]
  },
  {
   "cell_type": "markdown",
   "metadata": {
    "colab_type": "text",
    "id": "qUuEVsdHy78v"
   },
   "source": [
    "## LR VS NN"
   ]
  },
  {
   "cell_type": "code",
   "execution_count": null,
   "metadata": {
    "colab": {},
    "colab_type": "code",
    "id": "kEQXQZPHy95d"
   },
   "outputs": [],
   "source": [
    "\n",
    "nn_roc_auc = 0.81\n",
    "nn_tpr = np.load(file='tpr.npy')\n",
    "nn_fpr = np.load(file='fpr.npy')\n",
    "nn_thresholds = np.load(file='thresholds.npy')"
   ]
  },
  {
   "cell_type": "code",
   "execution_count": null,
   "metadata": {
    "colab": {
     "base_uri": "https://localhost:8080/",
     "height": 301
    },
    "colab_type": "code",
    "id": "58ajVlsrzAIz",
    "outputId": "abbabf68-f9a9-461f-bed6-4396520bb3cd"
   },
   "outputs": [],
   "source": [
    "logit_roc_auc = roc_auc_score(y, predicted)\n",
    "fpr, tpr, thresholds = roc_curve(y, predicted_proba[:,1])\n",
    "plt.figure()\n",
    "plt.plot(fpr, tpr, label='Logistic Regression (AUC = %0.2f)' % logit_roc_auc, color='cornflowerblue')\n",
    "plt.plot(nn_fpr, nn_tpr, label='Neural Network (AUC = %0.2f)' % nn_roc_auc, color='darkred')\n",
    "plt.plot([0, 1], [0, 1], linestyle='--', color='grey')\n",
    "plt.xlim([-0.01, 1.01])\n",
    "plt.ylim([-0.02, 1.02])\n",
    "plt.xlabel('False Positive Rate')\n",
    "plt.ylabel('True Positive Rate')\n",
    "plt.title('ROC: Predicting 3 Month Mortality @ Day 7 of Ventilation')\n",
    "plt.legend(loc=\"lower right\")\n",
    "plt.savefig(fname='comparison_day7_ROC', dpi=400, transparent=True)\n",
    "plt.show()"
   ]
  },
  {
   "cell_type": "code",
   "execution_count": null,
   "metadata": {
    "colab": {
     "base_uri": "https://localhost:8080/",
     "height": 1000
    },
    "colab_type": "code",
    "id": "aFwaNar3Mo-1",
    "outputId": "35613f7e-6c76-4e1b-cd01-18d71804d8d3"
   },
   "outputs": [],
   "source": [
    "from sklearn.preprocessing import LabelEncoder, MinMaxScaler\n",
    "from sklearn import metrics\n",
    "from sklearn.metrics import auc, accuracy_score, confusion_matrix, mean_squared_error, precision_recall_fscore_support\n",
    "from sklearn.model_selection import cross_val_score, GridSearchCV, KFold, RandomizedSearchCV, train_test_split, StratifiedShuffleSplit\n",
    "from sklearn.linear_model import LogisticRegression, LogisticRegressionCV\n",
    "from sklearn.ensemble import RandomForestClassifier\n",
    "import pandas as pd\n",
    "import numpy as np\n",
    "\n",
    "X = np.load(\"/content/drive/My Drive/Live Coding HEC/data/X2.npy\")\n",
    "y = np.load(\"/content/drive/My Drive/Live Coding HEC/data/y2.npy\")\n",
    "X_colnames = np.load(\"/content/drive/My Drive/Live Coding HEC/data/columns.npy\")\n",
    "\n",
    "# Split data 80:20 in traing, test data\n",
    "sss = StratifiedShuffleSplit(n_splits=4, test_size=0.2, random_state=1)\n",
    "for train_index, test_index in sss.split(X, y):\n",
    "    X_train, X_test = X[train_index], X[test_index]\n",
    "    y_train, y_test = y[train_index], y[test_index]\n",
    "\n",
    "# Set up and train model\n",
    "rf = RandomForestClassifier(verbose=2, random_state=42, n_jobs = -1, class_weight=\"balanced_subsample\", n_estimators=250, max_depth=None, min_samples_split=2, min_samples_leaf=1, bootstrap=True, max_features=\"auto\")\n",
    "\n",
    "trained_rf = rf.fit(X_train, y_train)\n",
    "y_rf = rf.predict(X_test)[:, 1]\n"
   ]
  },
  {
   "cell_type": "code",
   "execution_count": null,
   "metadata": {
    "colab": {
     "base_uri": "https://localhost:8080/",
     "height": 581
    },
    "colab_type": "code",
    "id": "D1lNltTlm0hQ",
    "outputId": "e22c2cb7-bd91-4974-d5cf-5e08be73bd08"
   },
   "outputs": [],
   "source": [
    "!pip install shap\n",
    "import shap\n",
    "#shap.initjs()\n",
    "\n",
    "\n",
    "# Below imports are used to print out pretty pandas dataframes\n",
    "#from IPython.display import display, HTML\n",
    "#%matplotlib inline"
   ]
  },
  {
   "cell_type": "code",
   "execution_count": null,
   "metadata": {
    "colab": {},
    "colab_type": "code",
    "id": "yrHOkREMiuJm"
   },
   "outputs": [],
   "source": [
    "trained_rf"
   ]
  },
  {
   "cell_type": "code",
   "execution_count": null,
   "metadata": {
    "colab": {
     "base_uri": "https://localhost:8080/",
     "height": 258
    },
    "colab_type": "code",
    "id": "4IEwWPHEPPwP",
    "outputId": "75b28b4c-db68-45fc-9c54-47de8822b807"
   },
   "outputs": [],
   "source": [
    "#number_samples = 10\n",
    "# load JS visualization code to notebook\n",
    "shap.initjs()\n",
    "X_df_short = X_df.head(3)\n",
    "explainer = shap.TreeExplainer(trained_rf)\n",
    "shap_values = explainer.shap_values(X_df_short)\n",
    "\n",
    "shap.summary_plot(shap_values, X_df_short)"
   ]
  },
  {
   "cell_type": "code",
   "execution_count": null,
   "metadata": {
    "colab": {
     "base_uri": "https://localhost:8080/",
     "height": 164
    },
    "colab_type": "code",
    "id": "njIQr7ewmcNl",
    "outputId": "00721ce3-6a5f-4241-9d84-ce5003ca4c62"
   },
   "outputs": [],
   "source": [
    "shap.summary_plot(shap_values[0], X_df_short)"
   ]
  }
 ],
 "metadata": {
  "accelerator": "GPU",
  "colab": {
   "collapsed_sections": [
    "fCJPFOy1BOUx",
    "MeZMcxi9MnIv"
   ],
   "name": "Paper_Model_evaluation/transparency_2019.ipynb",
   "provenance": [],
   "toc_visible": true
  },
  "kernelspec": {
   "display_name": "Python 3",
   "language": "python",
   "name": "python3"
  },
  "language_info": {
   "codemirror_mode": {
    "name": "ipython",
    "version": 3
   },
   "file_extension": ".py",
   "mimetype": "text/x-python",
   "name": "python",
   "nbconvert_exporter": "python",
   "pygments_lexer": "ipython3",
   "version": "3.7.4"
  }
 },
 "nbformat": 4,
 "nbformat_minor": 4
}
