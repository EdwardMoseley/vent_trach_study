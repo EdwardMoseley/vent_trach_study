{
 "cells": [
  {
   "cell_type": "code",
   "execution_count": null,
   "metadata": {
    "colab": {},
    "colab_type": "code",
    "id": "5sOjN0BCvwf0"
   },
   "outputs": [],
   "source": [
    "import os\n",
    "import pandas as pd\n",
    "import numpy as np\n",
    "\n",
    "from sklearn import preprocessing\n",
    "import tensorflow as tf\n",
    "from sklearn.model_selection import train_test_split\n",
    "from sklearn.pipeline import Pipeline\n",
    "from sklearn.preprocessing import LabelEncoder\n",
    "from sklearn.preprocessing import StandardScaler\n",
    "#from sklearn.preprocessing import Imputer\n",
    "from sklearn.pipeline import FeatureUnion\n",
    "from sklearn.preprocessing import MinMaxScaler\n",
    "\n",
    "import matplotlib.pyplot as plt\n",
    "from IPython.display import display, HTML"
   ]
  },
  {
   "cell_type": "markdown",
   "metadata": {
    "colab_type": "text",
    "id": "TAmvgKI9w2FU"
   },
   "source": [
    "## Data Preprocessing for Modeling"
   ]
  },
  {
   "cell_type": "code",
   "execution_count": null,
   "metadata": {
    "colab": {},
    "colab_type": "code",
    "id": "jGT1YBndyR1l"
   },
   "outputs": [],
   "source": [
    "df = pd.read_csv(\"./data/vent_trach_cohort_clean25May2020.csv\")\n",
    "\n",
    "df.head()"
   ]
  },
  {
   "cell_type": "code",
   "execution_count": null,
   "metadata": {
    "colab": {},
    "colab_type": "code",
    "id": "jOChKaGbHvzp"
   },
   "outputs": [],
   "source": [
    "#DROP COLUMNS: SUBJECT_ID, HADM_ID, ICUSTAY_ID, ETHNICITY, COHORT\n",
    "df = df.drop(columns=['SUBJECT_ID', 'HADM_ID', 'ETHNICITY', 'COHORT'])\n",
    "\n",
    "#OneHotEncode: ADMISSION_TYPE, ADMISSION_LOCATION, FIRST_CAREUNIT, GENDER\n",
    "df = pd.get_dummies(df, prefix=['ADMISSION_TYPE', 'ADMISSION_LOCATION', 'FIRST_CAREUNIT', 'GENDER'], columns=['ADMISSION_TYPE', 'ADMISSION_LOCATION', 'FIRST_CAREUNIT', 'GENDER'])\n",
    "\n",
    "#Categorize Strings: OUTCOME, GENDER\n",
    "le = LabelEncoder()\n",
    "df['MORTALITY_3MO_DISCH'] = le.fit_transform(df['MORTALITY_3MO_DISCH'].tolist())\n",
    "df['MORTALITY_1YR_DISCH'] = le.fit_transform(df['MORTALITY_1YR_DISCH'].tolist())\n",
    "\n",
    "## Before anymore preprocessing or splitting, save as tmp for ProVent logistic regression\n",
    "tmp = df"
   ]
  },
  {
   "cell_type": "code",
   "execution_count": null,
   "metadata": {
    "colab": {},
    "colab_type": "code",
    "id": "aSiNicacvDX-"
   },
   "outputs": [],
   "source": [
    "# Standard Scaler for normal distributions\n",
    "\n",
    "# General\n",
    "## Scores\n",
    "df[[\"ICU_D1_APSIII\", \"ICU_D1_OASIS\",  \"ICU_D1_SOFA\", \"ICU_D1_LODS\", \"ICU_D1_SAPSII\"]] = preprocessing.scale(df[[\"ICU_D1_APSIII\", \"ICU_D1_OASIS\",  \"ICU_D1_SOFA\", \"ICU_D1_LODS\", \"ICU_D1_SAPSII\"]])\n",
    "## Misc\n",
    "df[[\"HEIGHT_AVG\", \"ADMISSION_AGE\"]] = preprocessing.scale(df[[\"HEIGHT_AVG\", \"ADMISSION_AGE\"]])\n",
    "\n",
    "#D1\n",
    "## Lab values\n",
    "df[[\"LMVD1_SODIUM_MIN\",  \"LMVD1_SODIUM_MAX\", \"LMVD1_PLATELET_MIN\", \"LMVD1_PLATELET_MAX\",  \"LMVD1_POTASSIUM_MIN\", \"LMVD1_POTASSIUM_MAX\", \"LMVD1_CHLORIDE_MIN\",  \"LMVD1_CHLORIDE_MAX\",  \"LMVD1_GLUCOSE_MIN\", \"LMVD1_GLUCOSE_MAX\", \"LMVD1_HEMATOCRIT_MIN\",  \"LMVD1_HEMATOCRIT_MAX\",  \"LMVD1_HEMOGLOBIN_MIN\",  \"LMVD1_HEMOGLOBIN_MAX\", \"LMVD1_BICARBONATE_MIN\",  \"LMVD1_BICARBONATE_MAX\", \"LMVD1_ANIONGAP_MIN\",  \"LMVD1_ANIONGAP_MAX\",  \"LMVD1_ALBUMIN_MIN\", \"LMVD1_ALBUMIN_MAX\"]] = preprocessing.scale(df[[\"LMVD1_SODIUM_MIN\",  \"LMVD1_SODIUM_MAX\", \"LMVD1_PLATELET_MIN\", \"LMVD1_PLATELET_MAX\",  \"LMVD1_POTASSIUM_MIN\", \"LMVD1_POTASSIUM_MAX\", \"LMVD1_CHLORIDE_MIN\",  \"LMVD1_CHLORIDE_MAX\",  \"LMVD1_GLUCOSE_MIN\", \"LMVD1_GLUCOSE_MAX\", \"LMVD1_HEMATOCRIT_MIN\",  \"LMVD1_HEMATOCRIT_MAX\",  \"LMVD1_HEMOGLOBIN_MIN\",  \"LMVD1_HEMOGLOBIN_MAX\", \"LMVD1_BICARBONATE_MIN\",  \"LMVD1_BICARBONATE_MAX\", \"LMVD1_ANIONGAP_MIN\",  \"LMVD1_ANIONGAP_MAX\",  \"LMVD1_ALBUMIN_MIN\", \"LMVD1_ALBUMIN_MAX\"]])\n",
    "df[[\"LD1_SODIUM_MIN\", \"LD1_SODIUM_MAX\", \"LD1_PLATELET_MIN\", \"LD1_PLATELET_MAX\", \"LD1_POTASSIUM_MIN\", \"LD1_POTASSIUM_MAX\", \"LD1_CHLORIDE_MIN\", \"LD1_CHLORIDE_MAX\", \"LD1_GLUCOSE_MIN\", \"LD1_GLUCOSE_MAX\", \"LD1_HEMATOCRIT_MIN\", \"LD1_HEMATOCRIT_MAX\", \"LD1_HEMOGLOBIN_MIN\", \"LD1_HEMOGLOBIN_MAX\", \"LD1_BICARBONATE_MIN\", \"LD1_BICARBONATE_MAX\", \"LD1_ANIONGAP_MIN\", \"LD1_ANIONGAP_MAX\", \"LD1_ALBUMIN_MIN\", \"LD1_ALBUMIN_MAX\"]] = preprocessing.scale(df[[\"LD1_SODIUM_MIN\", \"LD1_SODIUM_MAX\", \"LD1_PLATELET_MIN\", \"LD1_PLATELET_MAX\", \"LD1_POTASSIUM_MIN\", \"LD1_POTASSIUM_MAX\", \"LD1_CHLORIDE_MIN\", \"LD1_CHLORIDE_MAX\", \"LD1_GLUCOSE_MIN\", \"LD1_GLUCOSE_MAX\", \"LD1_HEMATOCRIT_MIN\", \"LD1_HEMATOCRIT_MAX\", \"LD1_HEMOGLOBIN_MIN\", \"LD1_HEMOGLOBIN_MAX\", \"LD1_BICARBONATE_MIN\", \"LD1_BICARBONATE_MAX\", \"LD1_ANIONGAP_MIN\", \"LD1_ANIONGAP_MAX\", \"LD1_ALBUMIN_MIN\", \"LD1_ALBUMIN_MAX\"]])\n",
    "\n",
    "## Vital Signs\n",
    "df[[\"VMVD1_GLUCOSE_MIN\", \"VMVD1_GLUCOSE_MAX\", \"VMVD1_GLUCOSE_MEAN\", \"VMVD1_RESPRATE_MAX\", \"VMVD1_RESPRATE_MEAN\", \"VMVD1_TEMPC_MIN\", \"VMVD1_TEMPC_MAX\", \"VMVD1_TEMPC_MEAN\", \"VMVD1_HEARTRATE_MEAN\", \"VMVD1_SYSBP_MIN\", \"VMVD1_SYSBP_MAX\", \"VMVD1_SYSBP_MEAN\", \"VMVD1_DIASBP_MIN\", \"VMVD1_DIASBP_MAX\", \"VMVD1_DIASBP_MEAN\", \"VMVD1_MEANBP_MIN\", \"VMVD1_MEANBP_MAX\", \"VMVD1_MEANBP_MEAN\", \"VMVD1_RESPRATE_MIN\", \"VMVD1_HEARTRATE_MIN\", \"VMVD1_HEARTRATE_MAX\"]] = preprocessing.scale(df[[\"VMVD1_GLUCOSE_MIN\", \"VMVD1_GLUCOSE_MAX\", \"VMVD1_GLUCOSE_MEAN\", \"VMVD1_RESPRATE_MAX\", \"VMVD1_RESPRATE_MEAN\", \"VMVD1_TEMPC_MIN\", \"VMVD1_TEMPC_MAX\", \"VMVD1_TEMPC_MEAN\", \"VMVD1_HEARTRATE_MEAN\", \"VMVD1_SYSBP_MIN\", \"VMVD1_SYSBP_MAX\", \"VMVD1_SYSBP_MEAN\", \"VMVD1_DIASBP_MIN\", \"VMVD1_DIASBP_MAX\", \"VMVD1_DIASBP_MEAN\", \"VMVD1_MEANBP_MIN\", \"VMVD1_MEANBP_MAX\", \"VMVD1_MEANBP_MEAN\", \"VMVD1_RESPRATE_MIN\", \"VMVD1_HEARTRATE_MIN\", \"VMVD1_HEARTRATE_MAX\"]])\n",
    "df[[\"VD1_GLUCOSE_MIN\", \"VD1_GLUCOSE_MAX\", \"VD1_GLUCOSE_MEAN\", \"VD1_MEANBP_MIN\", \"VD1_MEANBP_MAX\", \"VD1_MEANBP_MEAN\", \"VD1_RESPRATE_MIN\", \"VD1_RESPRATE_MAX\", \"VD1_RESPRATE_MEAN\", \"VD1_TEMPC_MIN\", \"VD1_TEMPC_MAX\", \"VD1_TEMPC_MEAN\", \"VD1_HEARTRATE_MIN\", \"VD1_HEARTRATE_MAX\", \"VD1_HEARTRATE_MEAN\", \"VD1_SYSBP_MIN\", \"VD1_SYSBP_MAX\", \"VD1_SYSBP_MEAN\", \"VD1_DIASBP_MIN\", \"VD1_DIASBP_MAX\", \"VD1_DIASBP_MEAN\"]] = preprocessing.scale(df[[\"VD1_GLUCOSE_MIN\", \"VD1_GLUCOSE_MAX\", \"VD1_GLUCOSE_MEAN\", \"VD1_MEANBP_MIN\", \"VD1_MEANBP_MAX\", \"VD1_MEANBP_MEAN\", \"VD1_RESPRATE_MIN\", \"VD1_RESPRATE_MAX\", \"VD1_RESPRATE_MEAN\", \"VD1_TEMPC_MIN\", \"VD1_TEMPC_MAX\", \"VD1_TEMPC_MEAN\", \"VD1_HEARTRATE_MIN\", \"VD1_HEARTRATE_MAX\", \"VD1_HEARTRATE_MEAN\", \"VD1_SYSBP_MIN\", \"VD1_SYSBP_MAX\", \"VD1_SYSBP_MEAN\", \"VD1_DIASBP_MIN\", \"VD1_DIASBP_MAX\", \"VD1_DIASBP_MEAN\"]])\n",
    "## Misc\n",
    "df[[\"WEIGHTD1_WEIGHT_AVG\",  \"WEIGHTMVD1_WEIGHT_AVG\",  \"BMID1\",  \"BMIMVD1\"]] = preprocessing.scale(df[[\"WEIGHTD1_WEIGHT_AVG\",  \"WEIGHTMVD1_WEIGHT_AVG\",  \"BMID1\",  \"BMIMVD1\"]])\n",
    "\n",
    "#D7\n",
    "## Lab values\n",
    "df[[\"LMVD7_SODIUM_MIN\",  \"LMVD7_SODIUM_MAX\", \"LMVD7_PLATELET_MIN\", \"LMVD7_PLATELET_MAX\",  \"LMVD7_POTASSIUM_MIN\", \"LMVD7_POTASSIUM_MAX\", \"LMVD7_CHLORIDE_MIN\",  \"LMVD7_CHLORIDE_MAX\",  \"LMVD7_GLUCOSE_MIN\", \"LMVD7_GLUCOSE_MAX\", \"LMVD7_HEMATOCRIT_MIN\",  \"LMVD7_HEMATOCRIT_MAX\",  \"LMVD7_HEMOGLOBIN_MIN\",  \"LMVD7_HEMOGLOBIN_MAX\", \"LMVD7_BICARBONATE_MIN\",  \"LMVD7_BICARBONATE_MAX\", \"LMVD7_ANIONGAP_MIN\",  \"LMVD7_ANIONGAP_MAX\",  \"LMVD7_ALBUMIN_MIN\", \"LMVD7_ALBUMIN_MAX\"]] = preprocessing.scale(df[[\"LMVD7_SODIUM_MIN\",  \"LMVD7_SODIUM_MAX\", \"LMVD7_PLATELET_MIN\", \"LMVD7_PLATELET_MAX\",  \"LMVD7_POTASSIUM_MIN\", \"LMVD7_POTASSIUM_MAX\", \"LMVD7_CHLORIDE_MIN\",  \"LMVD7_CHLORIDE_MAX\",  \"LMVD7_GLUCOSE_MIN\", \"LMVD7_GLUCOSE_MAX\", \"LMVD7_HEMATOCRIT_MIN\",  \"LMVD7_HEMATOCRIT_MAX\",  \"LMVD7_HEMOGLOBIN_MIN\",  \"LMVD7_HEMOGLOBIN_MAX\", \"LMVD7_BICARBONATE_MIN\",  \"LMVD7_BICARBONATE_MAX\", \"LMVD7_ANIONGAP_MIN\",  \"LMVD7_ANIONGAP_MAX\",  \"LMVD7_ALBUMIN_MIN\", \"LMVD7_ALBUMIN_MAX\"]])\n",
    "## Vital signs\n",
    "df[[\"VMVD7_GLUCOSE_MIN\", \"VMVD7_GLUCOSE_MAX\", \"VMVD7_GLUCOSE_MEAN\", \"VMVD7_RESPRATE_MAX\", \"VMVD7_RESPRATE_MEAN\", \"VMVD7_TEMPC_MIN\", \"VMVD7_TEMPC_MAX\", \"VMVD7_TEMPC_MEAN\", \"VMVD7_HEARTRATE_MEAN\", \"VMVD7_SYSBP_MIN\", \"VMVD7_SYSBP_MAX\", \"VMVD7_SYSBP_MEAN\", \"VMVD7_DIASBP_MIN\", \"VMVD7_DIASBP_MAX\", \"VMVD7_DIASBP_MEAN\", \"VMVD7_MEANBP_MIN\", \"VMVD7_MEANBP_MAX\", \"VMVD7_MEANBP_MEAN\", \"VMVD7_RESPRATE_MIN\", \"VMVD7_HEARTRATE_MIN\", \"VMVD7_HEARTRATE_MAX\"]] = preprocessing.scale(df[[\"VMVD7_GLUCOSE_MIN\", \"VMVD7_GLUCOSE_MAX\", \"VMVD7_GLUCOSE_MEAN\", \"VMVD7_RESPRATE_MAX\", \"VMVD7_RESPRATE_MEAN\", \"VMVD7_TEMPC_MIN\", \"VMVD7_TEMPC_MAX\", \"VMVD7_TEMPC_MEAN\", \"VMVD7_HEARTRATE_MEAN\", \"VMVD7_SYSBP_MIN\", \"VMVD7_SYSBP_MAX\", \"VMVD7_SYSBP_MEAN\", \"VMVD7_DIASBP_MIN\", \"VMVD7_DIASBP_MAX\", \"VMVD7_DIASBP_MEAN\", \"VMVD7_MEANBP_MIN\", \"VMVD7_MEANBP_MAX\", \"VMVD7_MEANBP_MEAN\", \"VMVD7_RESPRATE_MIN\", \"VMVD7_HEARTRATE_MIN\", \"VMVD7_HEARTRATE_MAX\"]])\n",
    "## Misc\n",
    "df[[\"WEIGHTMVD7_WEIGHT_AVG\", \"BMIMVD7\"]] = preprocessing.scale(df[[\"WEIGHTMVD7_WEIGHT_AVG\", \"BMIMVD7\"]])\n",
    "\n",
    "# Min Max Scaler\n",
    "min_max_scaler = preprocessing.MinMaxScaler()\n",
    "# Vital Signs \n",
    "## Day 1\n",
    "df[[\"VD1_SPO2_MIN\", \"VD1_SPO2_MAX\", \"VD1_SPO2_MEAN\", \"VMVD1_SPO2_MIN\", \"VMVD1_SPO2_MAX\", \"VMVD1_SPO2_MEAN\"]] = min_max_scaler.fit_transform(df[[\"VD1_SPO2_MIN\", \"VD1_SPO2_MAX\", \"VD1_SPO2_MEAN\", \"VMVD1_SPO2_MIN\", \"VMVD1_SPO2_MAX\", \"VMVD1_SPO2_MEAN\"]])\n",
    "## Day 7\n",
    "df[[\"VMVD7_SPO2_MIN\", \"VMVD7_SPO2_MAX\", \"VMVD7_SPO2_MEAN\"]] = min_max_scaler.fit_transform(df[[\"VMVD7_SPO2_MIN\", \"VMVD7_SPO2_MAX\", \"VMVD7_SPO2_MEAN\"]])\n",
    "\n",
    "# Lab Values\n",
    "## Day 1\n",
    "df[[\"LD1_BANDS_MIN\", \"LD1_BANDS_MAX\", \"LD1_BILIRUBIN_MIN\", \"LD1_BILIRUBIN_MAX\", \"LD1_CREATININE_MIN\", \"LD1_CREATININE_MAX\", \"LD1_LACTATE_MIN\", \"LD1_LACTATE_MAX\", \"LD1_PTT_MIN\", \"LD1_PTT_MAX\", \"LD1_INR_MIN\", \"LD1_INR_MAX\", \"LD1_PT_MIN\", \"LD1_PT_MAX\", \"LD1_BUN_MIN\", \"LD1_BUN_MAX\", \"LD1_WBC_MIN\", \"LD1_WBC_MAX\"]] = min_max_scaler.fit_transform(df[[\"LD1_BANDS_MIN\", \"LD1_BANDS_MAX\", \"LD1_BILIRUBIN_MIN\", \"LD1_BILIRUBIN_MAX\", \"LD1_CREATININE_MIN\", \"LD1_CREATININE_MAX\", \"LD1_LACTATE_MIN\", \"LD1_LACTATE_MAX\", \"LD1_PTT_MIN\", \"LD1_PTT_MAX\", \"LD1_INR_MIN\", \"LD1_INR_MAX\", \"LD1_PT_MIN\", \"LD1_PT_MAX\", \"LD1_BUN_MIN\", \"LD1_BUN_MAX\", \"LD1_WBC_MIN\", \"LD1_WBC_MAX\"]])\n",
    "df[[\"LMVD1_BANDS_MIN\", \"LMVD1_BANDS_MAX\", \"LMVD1_BILIRUBIN_MIN\", \"LMVD1_BILIRUBIN_MAX\", \"LMVD1_CREATININE_MIN\", \"LMVD1_CREATININE_MAX\", \"LMVD1_LACTATE_MIN\", \"LMVD1_LACTATE_MAX\", \"LMVD1_PTT_MIN\", \"LMVD1_PTT_MAX\", \"LMVD1_INR_MIN\", \"LMVD1_INR_MAX\", \"LMVD1_PT_MIN\", \"LMVD1_PT_MAX\", \"LMVD1_BUN_MIN\", \"LMVD1_BUN_MAX\", \"LMVD1_WBC_MIN\", \"LMVD1_WBC_MAX\"]] = min_max_scaler.fit_transform(df[[\"LMVD1_BANDS_MIN\", \"LMVD1_BANDS_MAX\", \"LMVD1_BILIRUBIN_MIN\", \"LMVD1_BILIRUBIN_MAX\", \"LMVD1_CREATININE_MIN\", \"LMVD1_CREATININE_MAX\", \"LMVD1_LACTATE_MIN\", \"LMVD1_LACTATE_MAX\", \"LMVD1_PTT_MIN\", \"LMVD1_PTT_MAX\", \"LMVD1_INR_MIN\", \"LMVD1_INR_MAX\", \"LMVD1_PT_MIN\", \"LMVD1_PT_MAX\", \"LMVD1_BUN_MIN\", \"LMVD1_BUN_MAX\", \"LMVD1_WBC_MIN\", \"LMVD1_WBC_MAX\"]])\n",
    "## Day 7\n",
    "df[[\"LMVD7_BANDS_MIN\", \"LMVD7_BANDS_MAX\", \"LMVD7_BILIRUBIN_MIN\", \"LMVD7_BILIRUBIN_MAX\", \"LMVD7_CREATININE_MIN\", \"LMVD7_CREATININE_MAX\", \"LMVD7_LACTATE_MIN\", \"LMVD7_LACTATE_MAX\", \"LMVD7_PTT_MIN\", \"LMVD7_PTT_MAX\", \"LMVD7_INR_MIN\", \"LMVD7_INR_MAX\", \"LMVD7_PT_MIN\", \"LMVD7_PT_MAX\", \"LMVD7_BUN_MIN\", \"LMVD7_BUN_MAX\", \"LMVD7_WBC_MIN\", \"LMVD7_WBC_MAX\"]] = min_max_scaler.fit_transform(df[[\"LMVD7_BANDS_MIN\", \"LMVD7_BANDS_MAX\", \"LMVD7_BILIRUBIN_MIN\", \"LMVD7_BILIRUBIN_MAX\", \"LMVD7_CREATININE_MIN\", \"LMVD7_CREATININE_MAX\", \"LMVD7_LACTATE_MIN\", \"LMVD7_LACTATE_MAX\", \"LMVD7_PTT_MIN\", \"LMVD7_PTT_MAX\", \"LMVD7_INR_MIN\", \"LMVD7_INR_MAX\", \"LMVD7_PT_MIN\", \"LMVD7_PT_MAX\", \"LMVD7_BUN_MIN\", \"LMVD7_BUN_MAX\", \"LMVD7_WBC_MIN\", \"LMVD7_WBC_MAX\"]])"
   ]
  },
  {
   "cell_type": "code",
   "execution_count": null,
   "metadata": {
    "colab": {},
    "colab_type": "code",
    "id": "lsR_Nqm6VVkO"
   },
   "outputs": [],
   "source": [
    "df.head()"
   ]
  },
  {
   "cell_type": "code",
   "execution_count": null,
   "metadata": {
    "colab": {},
    "colab_type": "code",
    "id": "AjAbpCeZyCn-"
   },
   "outputs": [],
   "source": [
    "# Assigning X and y split\n",
    "y_3mo = df['MORTALITY_3MO_DISCH']\n",
    "y_1yr = df['MORTALITY_1YR_DISCH']\n",
    "\n",
    "## Remove outcomes from both\n",
    "X = df.drop(columns=['MORTALITY_3MO_DISCH'])\n",
    "X = X.drop(columns=['MORTALITY_1YR_DISCH'])\n",
    "\n",
    "X.head()\n",
    "print(df['MORTALITY_3MO_DISCH'].value_counts())\n",
    "print(df['MORTALITY_1YR_DISCH'].value_counts())"
   ]
  },
  {
   "cell_type": "markdown",
   "metadata": {},
   "source": [
    "## Training/Testing Split"
   ]
  },
  {
   "cell_type": "code",
   "execution_count": null,
   "metadata": {
    "colab": {},
    "colab_type": "code",
    "id": "ocX-APrWsCQ4"
   },
   "outputs": [],
   "source": [
    "from sklearn.model_selection import StratifiedShuffleSplit\n",
    "sss = StratifiedShuffleSplit(n_splits=4, test_size=0.2, random_state=1)\n",
    "\n",
    "for train_index, test_index in sss.split(X, y_1yr):\n",
    "    X_train, X_test = X.iloc[train_index], X.iloc[test_index]\n",
    "    y_3mo_train, y_3mo_test = y_3mo.iloc[train_index], y_3mo.iloc[test_index]\n",
    "    y_1yr_train, y_1yr_test = y_1yr.iloc[train_index], y_1yr.iloc[test_index]\n",
    "    x_pv_train, x_pv_test = tmp.iloc[train_index], tmp.iloc[test_index]\n",
    "    "
   ]
  },
  {
   "cell_type": "markdown",
   "metadata": {
    "colab": {},
    "colab_type": "code",
    "id": "0CnJGIjTdX58"
   },
   "source": [
    "### Save Resulting Splits"
   ]
  },
  {
   "cell_type": "code",
   "execution_count": null,
   "metadata": {
    "colab": {},
    "colab_type": "code",
    "id": "TXFL8GMh35S0"
   },
   "outputs": [],
   "source": [
    "X_train.to_csv('./data/X_train.csv')\n",
    "X_test.to_csv('./data/X_test.csv')\n",
    "\n",
    "## Now that the ids are saved, drop ICUSTAY_ID, 'ICUSTAY_ID'\n",
    "X_train = X_train.drop(columns=['ICUSTAY_ID'])\n",
    "X_test = X_test.drop(columns = ['ICUSTAY_ID'])\n",
    "\n",
    "np.save(\"./data/X_train_s.npy\", X_train)\n",
    "np.save(\"./data/X_test_s.npy\", X_test)\n",
    "\n",
    "np.save(\"./data/y_3mo_train_s.npy\", y_3mo_train)\n",
    "np.save(\"./data/y_3mo_test_s.npy\", y_3mo_test)\n",
    "\n",
    "np.save(\"./data/y_1yr_train_s.npy\", y_1yr_train)\n",
    "np.save(\"./data/y_1yr_test_s.npy\", y_1yr_test)"
   ]
  },
  {
   "cell_type": "markdown",
   "metadata": {
    "colab_type": "text",
    "id": "pH_3zSejcVWx"
   },
   "source": [
    "## Data Preprocessing for ProVent Logistic Regression"
   ]
  },
  {
   "cell_type": "code",
   "execution_count": null,
   "metadata": {
    "colab": {},
    "colab_type": "code",
    "id": "7QEphVKLcXFJ"
   },
   "outputs": [],
   "source": [
    "## Remember to use the same split as the neural network!\n",
    "## x_pv_train, x_pv_test\n",
    "\n",
    "#Day 7\n",
    "## df = pd.read_csv(\"./data/vent_trach_cohort_clean25May2020.csv\")\n",
    "df = "
   ]
  },
  {
   "cell_type": "code",
   "execution_count": null,
   "metadata": {
    "colab": {},
    "colab_type": "code",
    "id": "2pXAFUWmcjUu"
   },
   "outputs": [],
   "source": [
    "## ProVent Variables\n",
    "df = x_pv_train[['VPMVD7_VP', 'LMVD7_PLATELET_MIN', 'RRTMVD7_RRT', 'ADMISSION_AGE', 'FIRST_CAREUNIT', 'MORTALITY_3MO_DISCH', 'MORTALITY_1YR_DISCH']]"
   ]
  },
  {
   "cell_type": "code",
   "execution_count": null,
   "metadata": {
    "colab": {},
    "colab_type": "code",
    "id": "c8k_rWfyIuRR"
   },
   "outputs": [],
   "source": [
    "#df[[\"LMVD7_PLATELET_MIN\", 'ADMISSION_AGE']] = preprocessing.scale(df[[\"LMVD7_PLATELET_MIN\", 'ADMISSION_AGE']])\n",
    "df['FIRST_CAREUNIT'] = (df['FIRST_CAREUNIT'] != 'TSICU').astype(int)\n",
    "\n",
    "\n",
    "df['MORTALITY_3MO_DISCH'] = df['MORTALITY_3MO_DISCH'].astype(int)\n",
    "df['MORTALITY_1YR_DISCH'] = df['MORTALITY_1YR_DISCH'].astype(int)\n",
    "\n",
    "df.head()"
   ]
  },
  {
   "cell_type": "code",
   "execution_count": null,
   "metadata": {
    "colab": {},
    "colab_type": "code",
    "id": "BP17-eolLiaG"
   },
   "outputs": [],
   "source": [
    "# Assigning X and y split\n",
    "#y = df['MORTALITY_3MO_DISCH']\n",
    "y = df['MORTALITY_1YR_DISCH']\n",
    "\n",
    "X = df.drop(columns=['MORTALITY_3MO_DISCH'])\n",
    "X = X.drop(columns=['MORTALITY_1YR_DISCH'])"
   ]
  },
  {
   "cell_type": "code",
   "execution_count": null,
   "metadata": {
    "colab": {},
    "colab_type": "code",
    "id": "OJkd_ccR3xeb"
   },
   "outputs": [],
   "source": [
    "from sklearn.metrics import accuracy_score\n",
    "from sklearn.metrics import confusion_matrix\n",
    "from sklearn.metrics import classification_report\n",
    "from sklearn.metrics import roc_auc_score\n",
    "from sklearn.metrics import roc_curve\n",
    "from sklearn.model_selection import cross_val_predict\n",
    "from sklearn.linear_model import LogisticRegression\n",
    "\n",
    "import seaborn as sns\n",
    "import matplotlib.pyplot as plt\n",
    "from IPython.display import display, HTML\n",
    "\n",
    "\n",
    "logreg = LogisticRegression()\n",
    "\n",
    "predicted = cross_val_predict(logreg, X, y, cv=10)\n",
    "predicted_proba = cross_val_predict(logreg, X, y, cv=10, method='predict_proba')\n",
    "\n",
    "#y_prediction = cross_val_predict(logreg, X, y, cv=10, method='predict_proba')\n",
    "#y_prediction_new = [el[1] for el in y_prediction]\n",
    "\n",
    "#prediction = pd.DataFrame(y_prediction_new, columns=['pred_Y'])## .to_csv('prediction.csv')\n",
    "\n",
    "#y.to_csv('actual.csv')\n",
    "## prediction.head()"
   ]
  }
 ],
 "metadata": {
  "accelerator": "GPU",
  "colab": {
   "collapsed_sections": [],
   "name": "HST.953.paper.ipynb",
   "provenance": [],
   "toc_visible": true
  },
  "kernelspec": {
   "display_name": "Python 3",
   "language": "python",
   "name": "python3"
  },
  "language_info": {
   "codemirror_mode": {
    "name": "ipython",
    "version": 3
   },
   "file_extension": ".py",
   "mimetype": "text/x-python",
   "name": "python",
   "nbconvert_exporter": "python",
   "pygments_lexer": "ipython3",
   "version": "3.7.4"
  }
 },
 "nbformat": 4,
 "nbformat_minor": 4
}
